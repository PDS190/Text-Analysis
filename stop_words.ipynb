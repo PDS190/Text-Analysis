{
 "cells": [
  {
   "cell_type": "code",
   "execution_count": null,
   "metadata": {},
   "outputs": [],
   "source": [
    "# def stopwords():\n",
    "#     return ['be', 'having', 'couldn_t', 'through', 'that_ll', \"you'll\", 'am', 'isn', 'have', 'of', 'how', \n",
    "#             \"haven't\", 'needn', 'that_s', 'so', 'didn', 'we_ll', 'mightn', 'that', 'there', 'me', 'll', \n",
    "#             \"weren't\", 'further', 'because', 'hasn_t', 'ain', 'he_s', 'for', \"it's\", 'you', 'the', 'against',\n",
    "#             'should', '_em', 'after', 'shouldn', 'below', 'nor', 'yourself', 'we_ve', 'she_s', 'him', 'i_ll',\n",
    "#             'anyone_s', 'ours', \"needn't\", \"hadn't\", 'used', 'each', 'here', 'from', 'with', 'my', 'didn_t',\n",
    "#             'your', 'yourselves', 'said', 'during', 'both', 'under', 'you_d', 'wasn_t', 'they', \"don't\", 'hasn',\n",
    "#             'should_ve', 'no', 'needn_t', \"you're\", 'night_s', \"shan't\", 'shan_t', 'which', 'where', 'weren',\n",
    "#             \"mustn't\", 'he', 'been', 'were', 'don_t', \"didn't\", 'i_ve','it_s', 'some', 'aren_t', 'she_ll', 'couldn',\n",
    "#             'other', 'mustn_t', 'very', 'you_ve', \"aren't\", 'mightn_t', 'haven_t', 'won_t', \"doesn't\", 'm', 'than',\n",
    "#             'has', 'mustn', 'does', 'a', 'o', \"should've\", 'these', 'it', 'or', 'her', 'down', 'those', \"she's\",\n",
    "#             \"you'd\", 'won', 'only', 'ourselves', 'are', 'up', 'shouldn_t', 'don', 'being', 'i_m', 'did', 'their',\n",
    "#             'same', 'd', 'husband_s', 'here_s', 'haven', 'on', 'wouldn', \"wouldn't\", 'who_s', 'most', 'if', 'off',\n",
    "#             'you_re', 'not', 'let_s', 'who', 'tonight', 'i', \"couldn't\", 've', 'them', 'then', 'hadn_t', 'weren_t',\n",
    "#             't', 'but', 're', 'is', 'myself', 'shan', 'over', 'more', 'y', 'an', 'we', 'before', 'when', 'you_ll',\n",
    "#             'all', 'into', 'why', 'by', 'our', 'hadn', 'just', 'as', \"hasn't\", 'themselves', 'few', \"shouldn't\",\n",
    "#             'isn_t', 'do', 'would_t', 'hers', 'out', 'at', 'now', 'own', 'yours', 'herself', 'had', 'himself',\n",
    "#             'doesn', \"mightn't\", 'such', 'until', 'its', 'today_s', 'itself', \"wasn't\", \"won't\", 'also', 'again',\n",
    "#             'ma', 'tonight_sthey_re', 'too', 'what_s', 'in', 'anyone', 'once', 'his', 'she', 'theirs', 'between',\n",
    "#             'to', \"that'll\", 'doing', 'this', 'can_t', 'one', \"isn't\", 'about', 'wouldn_t', 'there_s', 'today',\n",
    "#             'uses', 'using', 'doesn_t', 'and', 'above', 's', \"you've\", 'we_re', 'wasn', 'any', 'while', 'can',\n",
    "#             'was', 'will', 'use', 'aren', 'what', 'whom']"
   ]
  },
  {
   "cell_type": "code",
   "execution_count": null,
   "metadata": {},
   "outputs": [],
   "source": [
    "def stopwords():\n",
    "    return ['trump','great', 'small', 'amp', 'time', 'head', 'early', 'let','days', 'know', 'come', 'like', 'quite', 'of', 'thick', 'whole', 'mightn', 'that', 'around', 'see', 'made', 'ain', \"it's\", 'via',\n",
    "            'against', 'latterly', 'rather', 'take', 'below', 'else', 'we_ve', 'she_s', \"needn't\", 'cry', 'each',\n",
    "            'nothing', 'yourselves', 'seems', 'interest', 'both', 'us', 'toward', 'mine', 'within', 'thence',\n",
    "            'whereby', 'night_s', 'anyhow', 'were', 'aren_t', 'she_ll', 'seem', 'other', 'amount', 'very', 'move',\n",
    "            'you_ve', 'haven_t', 'a', 'o', 'herein', 'except', 'computer', 'twelve', 'only', 'ourselves',\n",
    "            'sometime', 'are', 'fifteen', 'their', 'husband_s', 'd', 'behind', 'haven', 'whose', 'let_s', 've',\n",
    "            'call', 'but', 'is', 'over', 'more', 'before', 'we', 'why', 'our', 'themselves', 'do', 'would_t',\n",
    "            'seemed', 'out', 'at', 'inc', 'own', 'yours', 'herself', \"wasn't\", 'ma', 'less', 'once', 'beyond',\n",
    "            'per', 'however', 'detail', 'today', 'uses', 'eleven', 'across', 'wasn', 'any', 'can', 'will', 'top',\n",
    "            'use', 'fire', 'aren', 'beforehand', 'must', 'through', \"you'll\", 'make', 'am', 'needn', 'thru', 'didn',\n",
    "            'well', 'there', 'because', 'noone', 'you', 'ie', 'meanwhile', 'un', 'fill', 'please', \"hadn't\", 'used',\n",
    "            'indeed', 'from', 'with', 'former', 'didn_t', 'latter', 'part', 'whereas', 'under', 'they', 'hasn',\n",
    "            'should_ve', 'no', 'beside', 'found', 'hereafter', \"you're\", 'which', 'whence', 'five', 'where', 'among',\n",
    "            \"mustn't\", 'he', 'say', 'whereupon', 'mustn_t', 'serious', \"doesn't\", 'has', 'first', 'does', 'twenty',\n",
    "            'these', \"should've\", 'it', 'or', 'anywhere', 'several', \"you'd\", 'won', 'don', 'much', 'system',\n",
    "            'wouldn', \"wouldn't\", 'find', 'if', 'you_re', 'not', 'somehow', 'never', 'who', 'together', 'tonight',\n",
    "            'ever', 'back', 'even', 't', 'whither', 're', 'myself', 'shan', 'y', 'hasnt', 'an', 'into', 'by', 'hadn',\n",
    "            'as', 'isn_t', 'hers', 'forty', 'formerly', 'now', 'doesn', 'eight', 'seeming', 'himself', \"won't\",\n",
    "            'already', 'wherein', 'four','years', '_s', 'tonight_sthey_re', 'too', 'she', 'to', 'neither', 'theirs', 'can_t',\n",
    "            'about', 'may', 'would', 'anything', 'doesn_t', 'above', 'we_re', 'becomes', 'onto', 'while', 'ten',\n",
    "            'though', 'either', 'than', 'couldn_t', 'that_ll', 'how', 'although', 'that_s', 'since', 'hereupon',\n",
    "            'six', 'further', 'hasn_t', 'for', 'side', 'the', '_em', 'after', 'shouldn', 'namely', 'nor', 'yourself',\n",
    "            'him', 'anyone_s', 'here', 'others', 'my', 'describe', 'otherwise', 'kg', 'co', 'someone', 'you_d',\n",
    "            'keep', 'every', \"shan't\", 'weren', 'therefore', 'been', 'besides', \"didn't\", 'whether', 'some',\n",
    "            'couldn', 'm', 'mustn', 'three', 'along', 'her', 'really', 'unless', 'everything', 'shouldn_t',\n",
    "            'con', 'whoever', 'it_s', 'being', 'i_m', 'without', 'give', 'thin', 'name', 'various', 'who_s', 'most',\n",
    "            'always', 'i_ve', 'third', 'whenever', 'i', 'then', 'them', 'two', 'cannot', 'hadn_t', 'weren_t',\n",
    "            'something', 'eg', 'could', 'all', 'just', 'couldnt', 'few', \"shouldn't\", 'least', 'mostly', 'often',\n",
    "            'had', \"mightn't\", 'perhaps', 'itself', 'thereby', 'also', 'towards', 'again', 'anyone', 'might',\n",
    "            \"that'll\", 'doing', 'elsewhere', 'this', 'bottom', \"isn't\", 'becoming', 'wouldn_t', 'next', 'done',\n",
    "            'nowhere', 'yet', \"you've\", 'thus', 'sincere', 'whom', 'be', 'having', 'isn', 'have', \"haven't\", 'so',\n",
    "            'we_ll', 'last', 'wherever', 'ltd', 'me', 'll', \"weren't\", 'nevertheless', 'he_s', 'still', 'should',\n",
    "            'km', 'front', 'i_ll', 'ours', 'nobody', 'therein', 'enough', 'your', 'put', 'said', 'get', 'during',\n",
    "            'wasn_t', 'due', \"don't\", 'another', 'needn_t', 'need', 'moreover', 'shan_t', 'etc', 'don_t', 'nine',\n",
    "            'throughout', 'mill', 'everywhere', 'none', 'amongst', \"aren't\", 'mightn_t', 'won_t', 'show', 'de',\n",
    "            'somewhere', 'regarding', 'alone', 'cant', 'down', 'those', \"she's\", 'sometimes', 'up', 'upon', 'did',\n",
    "            'same', 'many', 'here_s', 'on', 'off','going', 'better', 'almost', 'anyway', 'hereby', 'hence', 'thereupon', 'go', 'fifty',\n",
    "            \"couldn't\", 'became', 'you_ll', 'when', 'whatever', 'empty', \"hasn't\", 'hundred', 'whereafter', 'such',\n",
    "            'become', 'thereafter', 'until', 'its', 'today_s', 'amoungst', 'sixty', 'bill', 'afterwards', 'what_s',\n",
    "            'in', 'his', 'between', 'one', 'there_s', 'using', 'and', 's', 'everyone', 'full','tune', 'was','people', 'folks', 'what', 'trump_s']"
   ]
  }
 ],
 "metadata": {
  "kernelspec": {
   "display_name": "Python 3",
   "language": "python",
   "name": "python3"
  },
  "language_info": {
   "codemirror_mode": {
    "name": "ipython",
    "version": 3
   },
   "file_extension": ".py",
   "mimetype": "text/x-python",
   "name": "python",
   "nbconvert_exporter": "python",
   "pygments_lexer": "ipython3",
   "version": "3.8.3"
  }
 },
 "nbformat": 4,
 "nbformat_minor": 4
}
